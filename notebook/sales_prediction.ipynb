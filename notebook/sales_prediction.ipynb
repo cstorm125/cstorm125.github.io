{
 "cells": [
  {
   "cell_type": "markdown",
   "metadata": {},
   "source": [
    "# Predict Zero-inflated and Long-tailed Outcomes"
   ]
  },
  {
   "cell_type": "markdown",
   "metadata": {},
   "source": [
    "## Load Dataset"
   ]
  },
  {
   "cell_type": "code",
   "execution_count": 1,
   "metadata": {},
   "outputs": [],
   "source": [
    "import pandas as pd\n",
    "from ucimlrepo import fetch_ucirepo \n",
    "import boto3\n",
    "import json\n",
    "from tqdm.auto import tqdm\n",
    "import time\n",
    "\n",
    "def string_to_yearmon(date):\n",
    "    date = date.split()\n",
    "    date = date[0].split('/') + date[1].split(':')\n",
    "    date = date[2] + '-' + date[0].zfill(2) #+ '-' + date[1].zfill(2) + ' ' + date[3].zfill(2) + ':' + date[4].zfill(2)\n",
    "    return date\n",
    "\n",
    "def call_llama(system_prompt, input):\n",
    "    template = f\"\"\"<s>[INST] <<SYS>>{system_prompt}<</SYS>>{input}[/INST]\"\"\"\n",
    "    client = boto3.client(service_name='bedrock-runtime',region_name='us-west-2')\n",
    "    body = json.dumps({\n",
    "        \"prompt\": template,\n",
    "        \"temperature\": 0.,\n",
    "        \"top_p\": 0.9,\n",
    "        \"max_gen_len\": 2048,\n",
    "    })\n",
    "    response = client.invoke_model(\n",
    "        body=body,\n",
    "        modelId='us.meta.llama3-2-90b-instruct-v1:0',\n",
    "        accept='application/json',\n",
    "        contentType='application/json'\n",
    "    )\n",
    "    response_body = json.loads(response['body'].read())\n",
    "    return response_body\n",
    "\n",
    "def call_claude(system_prompt, input):\n",
    "    client = boto3.client(service_name='bedrock-runtime',region_name='us-west-2')\n",
    "    body=json.dumps(\n",
    "        {\n",
    "            \"anthropic_version\": \"bedrock-2023-05-31\",\n",
    "            \"max_tokens\": 2048,\n",
    "            \"messages\": [\n",
    "                {\n",
    "                    \"role\": \"user\",\n",
    "                    \"content\": [\n",
    "                    {\n",
    "                        \"type\": \"text\",\n",
    "                        \"text\": system_prompt + '\\n' + input,\n",
    "                    }\n",
    "                    ]\n",
    "                }\n",
    "                ]\n",
    "        }  \n",
    "    )  \n",
    "\n",
    "    \n",
    "    response = client.invoke_model(body=body, \n",
    "                                   modelId='anthropic.claude-3-5-sonnet-20241022-v2:0',\n",
    "                                   contentType='application/json',\n",
    "                                   accept='application/json')\n",
    "    response_body = json.loads(response.get('body').read())\n",
    "   \n",
    "    return response_body"
   ]
  },
  {
   "cell_type": "markdown",
   "metadata": {},
   "source": [
    "## Clean Dataset"
   ]
  },
  {
   "cell_type": "code",
   "execution_count": 2,
   "metadata": {},
   "outputs": [
    {
     "data": {
      "text/plain": [
       "(541909, 8)"
      ]
     },
     "execution_count": 2,
     "metadata": {},
     "output_type": "execute_result"
    }
   ],
   "source": [
    "online_retail = fetch_ucirepo(id=352) \n",
    "transaction_df = online_retail['data']['original']\n",
    "transaction_df.shape"
   ]
  },
  {
   "cell_type": "code",
   "execution_count": 3,
   "metadata": {},
   "outputs": [
    {
     "data": {
      "text/plain": [
       "(406829, 9)"
      ]
     },
     "execution_count": 3,
     "metadata": {},
     "output_type": "execute_result"
    }
   ],
   "source": [
    "#create yearmon for train-valid split\n",
    "transaction_df['yearmon'] = transaction_df.InvoiceDate.map(string_to_yearmon)\n",
    "\n",
    "#get rid of transactions without cid\n",
    "transaction_df = transaction_df[~transaction_df.CustomerID.isna()].reset_index(drop=True)\n",
    "\n",
    "#fill in unknown descriptions\n",
    "transaction_df.Description = transaction_df.Description.fillna('UNKNOWN')\n",
    "\n",
    "#convert customer id to string\n",
    "transaction_df['CustomerID'] = transaction_df['CustomerID'].map(lambda x: str(int(x)))\n",
    "\n",
    "transaction_df.shape"
   ]
  },
  {
   "cell_type": "code",
   "execution_count": 4,
   "metadata": {},
   "outputs": [
    {
     "data": {
      "text/plain": [
       "InvoiceNo      0.0\n",
       "StockCode      0.0\n",
       "Description    0.0\n",
       "Quantity       0.0\n",
       "InvoiceDate    0.0\n",
       "UnitPrice      0.0\n",
       "CustomerID     0.0\n",
       "Country        0.0\n",
       "yearmon        0.0\n",
       "dtype: float64"
      ]
     },
     "execution_count": 4,
     "metadata": {},
     "output_type": "execute_result"
    }
   ],
   "source": [
    "#check if still na\n",
    "transaction_df.isna().mean()"
   ]
  },
  {
   "cell_type": "code",
   "execution_count": 5,
   "metadata": {},
   "outputs": [
    {
     "data": {
      "text/plain": [
       "(397884, 10)"
      ]
     },
     "execution_count": 5,
     "metadata": {},
     "output_type": "execute_result"
    }
   ],
   "source": [
    "#simplify by filtering unit price and quantity to be non-zero (get rid of discounts, cancellations, etc)\n",
    "transaction_df = transaction_df[(transaction_df.UnitPrice>0)&\\\n",
    "                                (transaction_df.Quantity>0)].reset_index(drop=True)\n",
    "#add sales\n",
    "transaction_df['Sales'] = transaction_df.UnitPrice * transaction_df.Quantity\n",
    "transaction_df.shape"
   ]
  },
  {
   "cell_type": "markdown",
   "metadata": {},
   "source": [
    "## Outcome"
   ]
  },
  {
   "cell_type": "code",
   "execution_count": 6,
   "metadata": {},
   "outputs": [
    {
     "data": {
      "text/plain": [
       "((240338, 10), (131389, 10))"
      ]
     },
     "execution_count": 6,
     "metadata": {},
     "output_type": "execute_result"
    }
   ],
   "source": [
    "feature_period = {'start': '2011-01', 'end': '2011-09'}\n",
    "outcome_period = {'start': '2011-10', 'end': '2011-12'}\n",
    "\n",
    "feature_transaction = transaction_df[(transaction_df.yearmon>=feature_period['start'])&\\\n",
    "                                      (transaction_df.yearmon<=feature_period['end'])]\n",
    "outcome_transaction = transaction_df[(transaction_df.yearmon>=outcome_period['start'])&\\\n",
    "                                      (transaction_df.yearmon<=outcome_period['end'])]\n",
    "feature_transaction.shape, outcome_transaction.shape"
   ]
  },
  {
   "cell_type": "code",
   "execution_count": 7,
   "metadata": {},
   "outputs": [
    {
     "data": {
      "text/html": [
       "<div>\n",
       "<style scoped>\n",
       "    .dataframe tbody tr th:only-of-type {\n",
       "        vertical-align: middle;\n",
       "    }\n",
       "\n",
       "    .dataframe tbody tr th {\n",
       "        vertical-align: top;\n",
       "    }\n",
       "\n",
       "    .dataframe thead th {\n",
       "        text-align: right;\n",
       "    }\n",
       "</style>\n",
       "<table border=\"1\" class=\"dataframe\">\n",
       "  <thead>\n",
       "    <tr style=\"text-align: right;\">\n",
       "      <th></th>\n",
       "      <th>CustomerID</th>\n",
       "      <th>Sales</th>\n",
       "    </tr>\n",
       "  </thead>\n",
       "  <tbody>\n",
       "    <tr>\n",
       "      <th>0</th>\n",
       "      <td>12347</td>\n",
       "      <td>1519.14</td>\n",
       "    </tr>\n",
       "    <tr>\n",
       "      <th>1</th>\n",
       "      <td>12349</td>\n",
       "      <td>1757.55</td>\n",
       "    </tr>\n",
       "    <tr>\n",
       "      <th>2</th>\n",
       "      <td>12352</td>\n",
       "      <td>311.73</td>\n",
       "    </tr>\n",
       "    <tr>\n",
       "      <th>3</th>\n",
       "      <td>12356</td>\n",
       "      <td>58.35</td>\n",
       "    </tr>\n",
       "    <tr>\n",
       "      <th>4</th>\n",
       "      <td>12357</td>\n",
       "      <td>6207.67</td>\n",
       "    </tr>\n",
       "    <tr>\n",
       "      <th>...</th>\n",
       "      <td>...</td>\n",
       "      <td>...</td>\n",
       "    </tr>\n",
       "    <tr>\n",
       "      <th>2555</th>\n",
       "      <td>18276</td>\n",
       "      <td>335.86</td>\n",
       "    </tr>\n",
       "    <tr>\n",
       "      <th>2556</th>\n",
       "      <td>18277</td>\n",
       "      <td>110.38</td>\n",
       "    </tr>\n",
       "    <tr>\n",
       "      <th>2557</th>\n",
       "      <td>18282</td>\n",
       "      <td>77.84</td>\n",
       "    </tr>\n",
       "    <tr>\n",
       "      <th>2558</th>\n",
       "      <td>18283</td>\n",
       "      <td>974.21</td>\n",
       "    </tr>\n",
       "    <tr>\n",
       "      <th>2559</th>\n",
       "      <td>18287</td>\n",
       "      <td>1072.00</td>\n",
       "    </tr>\n",
       "  </tbody>\n",
       "</table>\n",
       "<p>2560 rows × 2 columns</p>\n",
       "</div>"
      ],
      "text/plain": [
       "     CustomerID    Sales\n",
       "0         12347  1519.14\n",
       "1         12349  1757.55\n",
       "2         12352   311.73\n",
       "3         12356    58.35\n",
       "4         12357  6207.67\n",
       "...         ...      ...\n",
       "2555      18276   335.86\n",
       "2556      18277   110.38\n",
       "2557      18282    77.84\n",
       "2558      18283   974.21\n",
       "2559      18287  1072.00\n",
       "\n",
       "[2560 rows x 2 columns]"
      ]
     },
     "execution_count": 7,
     "metadata": {},
     "output_type": "execute_result"
    }
   ],
   "source": [
    "#aggregate sales during outcome period\n",
    "outcome_sales = outcome_transaction.groupby('CustomerID').Sales.sum().reset_index()\n",
    "outcome_sales"
   ]
  },
  {
   "cell_type": "code",
   "execution_count": 8,
   "metadata": {},
   "outputs": [
    {
     "data": {
      "text/html": [
       "<div>\n",
       "<style scoped>\n",
       "    .dataframe tbody tr th:only-of-type {\n",
       "        vertical-align: middle;\n",
       "    }\n",
       "\n",
       "    .dataframe tbody tr th {\n",
       "        vertical-align: top;\n",
       "    }\n",
       "\n",
       "    .dataframe thead th {\n",
       "        text-align: right;\n",
       "    }\n",
       "</style>\n",
       "<table border=\"1\" class=\"dataframe\">\n",
       "  <thead>\n",
       "    <tr style=\"text-align: right;\">\n",
       "      <th></th>\n",
       "      <th>CustomerID</th>\n",
       "      <th>Sales</th>\n",
       "    </tr>\n",
       "  </thead>\n",
       "  <tbody>\n",
       "    <tr>\n",
       "      <th>0</th>\n",
       "      <td>12346</td>\n",
       "      <td>77183.60</td>\n",
       "    </tr>\n",
       "    <tr>\n",
       "      <th>1</th>\n",
       "      <td>12347</td>\n",
       "      <td>2079.07</td>\n",
       "    </tr>\n",
       "    <tr>\n",
       "      <th>2</th>\n",
       "      <td>12348</td>\n",
       "      <td>904.44</td>\n",
       "    </tr>\n",
       "    <tr>\n",
       "      <th>3</th>\n",
       "      <td>12350</td>\n",
       "      <td>334.40</td>\n",
       "    </tr>\n",
       "    <tr>\n",
       "      <th>4</th>\n",
       "      <td>12352</td>\n",
       "      <td>2194.31</td>\n",
       "    </tr>\n",
       "    <tr>\n",
       "      <th>...</th>\n",
       "      <td>...</td>\n",
       "      <td>...</td>\n",
       "    </tr>\n",
       "    <tr>\n",
       "      <th>3433</th>\n",
       "      <td>18280</td>\n",
       "      <td>180.60</td>\n",
       "    </tr>\n",
       "    <tr>\n",
       "      <th>3434</th>\n",
       "      <td>18281</td>\n",
       "      <td>80.82</td>\n",
       "    </tr>\n",
       "    <tr>\n",
       "      <th>3435</th>\n",
       "      <td>18282</td>\n",
       "      <td>100.21</td>\n",
       "    </tr>\n",
       "    <tr>\n",
       "      <th>3436</th>\n",
       "      <td>18283</td>\n",
       "      <td>1120.67</td>\n",
       "    </tr>\n",
       "    <tr>\n",
       "      <th>3437</th>\n",
       "      <td>18287</td>\n",
       "      <td>765.28</td>\n",
       "    </tr>\n",
       "  </tbody>\n",
       "</table>\n",
       "<p>3438 rows × 2 columns</p>\n",
       "</div>"
      ],
      "text/plain": [
       "     CustomerID     Sales\n",
       "0         12346  77183.60\n",
       "1         12347   2079.07\n",
       "2         12348    904.44\n",
       "3         12350    334.40\n",
       "4         12352   2194.31\n",
       "...         ...       ...\n",
       "3433      18280    180.60\n",
       "3434      18281     80.82\n",
       "3435      18282    100.21\n",
       "3436      18283   1120.67\n",
       "3437      18287    765.28\n",
       "\n",
       "[3438 rows x 2 columns]"
      ]
     },
     "execution_count": 8,
     "metadata": {},
     "output_type": "execute_result"
    }
   ],
   "source": [
    "#aggregate sales during feature period\n",
    "feature_sales = feature_transaction.groupby('CustomerID').Sales.sum().reset_index()\n",
    "feature_sales"
   ]
  },
  {
   "cell_type": "code",
   "execution_count": 9,
   "metadata": {},
   "outputs": [
    {
     "data": {
      "text/html": [
       "<div>\n",
       "<style scoped>\n",
       "    .dataframe tbody tr th:only-of-type {\n",
       "        vertical-align: middle;\n",
       "    }\n",
       "\n",
       "    .dataframe tbody tr th {\n",
       "        vertical-align: top;\n",
       "    }\n",
       "\n",
       "    .dataframe thead th {\n",
       "        text-align: right;\n",
       "    }\n",
       "</style>\n",
       "<table border=\"1\" class=\"dataframe\">\n",
       "  <thead>\n",
       "    <tr style=\"text-align: right;\">\n",
       "      <th></th>\n",
       "      <th>CustomerID</th>\n",
       "      <th>TargetSales</th>\n",
       "    </tr>\n",
       "  </thead>\n",
       "  <tbody>\n",
       "    <tr>\n",
       "      <th>0</th>\n",
       "      <td>12346</td>\n",
       "      <td>0.00</td>\n",
       "    </tr>\n",
       "    <tr>\n",
       "      <th>1</th>\n",
       "      <td>12347</td>\n",
       "      <td>1519.14</td>\n",
       "    </tr>\n",
       "    <tr>\n",
       "      <th>2</th>\n",
       "      <td>12348</td>\n",
       "      <td>0.00</td>\n",
       "    </tr>\n",
       "    <tr>\n",
       "      <th>3</th>\n",
       "      <td>12350</td>\n",
       "      <td>0.00</td>\n",
       "    </tr>\n",
       "    <tr>\n",
       "      <th>4</th>\n",
       "      <td>12352</td>\n",
       "      <td>311.73</td>\n",
       "    </tr>\n",
       "    <tr>\n",
       "      <th>...</th>\n",
       "      <td>...</td>\n",
       "      <td>...</td>\n",
       "    </tr>\n",
       "    <tr>\n",
       "      <th>3433</th>\n",
       "      <td>18280</td>\n",
       "      <td>0.00</td>\n",
       "    </tr>\n",
       "    <tr>\n",
       "      <th>3434</th>\n",
       "      <td>18281</td>\n",
       "      <td>0.00</td>\n",
       "    </tr>\n",
       "    <tr>\n",
       "      <th>3435</th>\n",
       "      <td>18282</td>\n",
       "      <td>77.84</td>\n",
       "    </tr>\n",
       "    <tr>\n",
       "      <th>3436</th>\n",
       "      <td>18283</td>\n",
       "      <td>974.21</td>\n",
       "    </tr>\n",
       "    <tr>\n",
       "      <th>3437</th>\n",
       "      <td>18287</td>\n",
       "      <td>1072.00</td>\n",
       "    </tr>\n",
       "  </tbody>\n",
       "</table>\n",
       "<p>3438 rows × 2 columns</p>\n",
       "</div>"
      ],
      "text/plain": [
       "     CustomerID  TargetSales\n",
       "0         12346         0.00\n",
       "1         12347      1519.14\n",
       "2         12348         0.00\n",
       "3         12350         0.00\n",
       "4         12352       311.73\n",
       "...         ...          ...\n",
       "3433      18280         0.00\n",
       "3434      18281         0.00\n",
       "3435      18282        77.84\n",
       "3436      18283       974.21\n",
       "3437      18287      1072.00\n",
       "\n",
       "[3438 rows x 2 columns]"
      ]
     },
     "execution_count": 9,
     "metadata": {},
     "output_type": "execute_result"
    }
   ],
   "source": [
    "#merge to get TargetSales including those who spent during feature period but not during outcome (zeroes)\n",
    "outcome_df = feature_sales[['CustomerID']].merge(outcome_sales, on='CustomerID', how='left')\n",
    "outcome_df['Sales'] = outcome_df['Sales'].fillna(0)\n",
    "outcome_df.columns = ['CustomerID', 'TargetSales']\n",
    "outcome_df"
   ]
  },
  {
   "cell_type": "code",
   "execution_count": 10,
   "metadata": {},
   "outputs": [
    {
     "data": {
      "text/plain": [
       "count      3438.000000\n",
       "mean        666.245829\n",
       "std        4016.843037\n",
       "min           0.000000\n",
       "0%            0.000000\n",
       "10%           0.000000\n",
       "20%           0.000000\n",
       "30%           0.000000\n",
       "40%           0.000000\n",
       "50%         102.005000\n",
       "60%         263.006000\n",
       "70%         425.790000\n",
       "80%         705.878000\n",
       "90%        1273.611000\n",
       "max      168469.600000\n",
       "Name: TargetSales, dtype: float64"
      ]
     },
     "execution_count": 10,
     "metadata": {},
     "output_type": "execute_result"
    }
   ],
   "source": [
    "#confirm zero-inflated, long-tailed\n",
    "outcome_df.TargetSales.describe(percentiles=[i/10 for i in range(10)])"
   ]
  },
  {
   "cell_type": "code",
   "execution_count": 11,
   "metadata": {},
   "outputs": [
    {
     "data": {
      "text/plain": [
       "<AxesSubplot:>"
      ]
     },
     "execution_count": 11,
     "metadata": {},
     "output_type": "execute_result"
    },
    {
     "data": {
      "image/png": "[encoded data removed]",
      "text/plain": [
       "<Figure size 640x480 with 1 Axes>"
      ]
     },
     "metadata": {},
     "output_type": "display_data"
    }
   ],
   "source": [
    "#confirm zero-inflated, long-tailed\n",
    "outcome_df[outcome_df.TargetSales<=10_000].TargetSales.hist(bins=100)"
   ]
  },
  {
   "cell_type": "markdown",
   "metadata": {},
   "source": [
    "## Feature"
   ]
  },
  {
   "cell_type": "markdown",
   "metadata": {},
   "source": [
    "### Classify `Description` into `Category`"
   ]
  },
  {
   "cell_type": "code",
   "execution_count": 12,
   "metadata": {},
   "outputs": [
    {
     "data": {
      "text/plain": [
       "3548"
      ]
     },
     "execution_count": 12,
     "metadata": {},
     "output_type": "execute_result"
    }
   ],
   "source": [
    "feature_transaction.Description.nunique()"
   ]
  },
  {
   "cell_type": "code",
   "execution_count": 13,
   "metadata": {},
   "outputs": [
    {
     "name": "stdout",
     "output_type": "stream",
     "text": [
      "['JUMBO BAG PINK POLKADOT', 'BLUE POLKADOT WRAP', 'RED RETROSPOT WRAP ', 'RECYCLING BAG RETROSPOT ', 'RED RETROSPOT SHOPPER BAG']\n",
      "['MODERN FLORAL STATIONERY SET' 'PURPLE BERTIE GLASS BEAD BAG CHARM'\n",
      " 'PARTY INVITES SPACEMAN' 'MONTANA DIAMOND CLUSTER EARRINGS'\n",
      " 'SKULLS  DESIGN  COTTON TOTE BAG']\n"
     ]
    }
   ],
   "source": [
    "import numpy as np\n",
    "import random\n",
    "descriptions = feature_transaction.Description.unique().tolist()\n",
    "print(descriptions[:5])\n",
    "\n",
    "#randomize descriptions with seed 112 to get which categories we should use\n",
    "np.random.seed(112)\n",
    "random_descriptions = np.random.choice(descriptions, 1000, replace=False)\n",
    "print(random_descriptions[:5])"
   ]
  },
  {
   "cell_type": "code",
   "execution_count": 14,
   "metadata": {},
   "outputs": [
    {
     "name": "stdout",
     "output_type": "stream",
     "text": [
      " <<SYS>>Based on the product descriptions, I would categorize them into the following categories:\n",
      "\n",
      "1. Home Decor:\n",
      "\t* Wall art\n",
      "\t* Decorative items (e.g. vases, figurines, etc.)\n",
      "\t* Lighting (e.g. candles, lanterns, etc.)\n",
      "\t* Textiles (e.g. throw pillows, blankets, etc.)\n",
      "2. Kitchen and Dining:\n",
      "\t* Cookware and utensils\n",
      "\t* Tableware (e.g. plates, cups, etc.)\n",
      "\t* Kitchen decor (e.g. wall art, etc.)\n",
      "\t* Food and drink items (e.g. tea, coffee, etc.)\n",
      "3. Fashion and Accessories:\n",
      "\t* Jewelry (e.g. necklaces, earrings, etc.)\n",
      "\t* Handbags and wallets\n",
      "\t* Clothing and accessories (e.g. scarves, hats, etc.)\n",
      "4. Stationery and Gifts:\n",
      "\t* Greeting cards\n",
      "\t* Gift wrap and bags\n",
      "\t* Stationery (e.g. notebooks, pens, etc.)\n",
      "\t* Gift items (e.g. candles, etc.)\n",
      "5. Toys and Games:\n",
      "\t* Toys (e.g. stuffed animals, etc.)\n",
      "\t* Games and puzzles\n",
      "6. Seasonal and Holiday:\n",
      "\t* Christmas decorations and gifts\n",
      "\t* Easter decorations and gifts\n",
      "\t* Other seasonal items (e.g. Halloween, etc.)\n",
      "7. Personal Care and Wellness:\n",
      "\t* Beauty and personal care items (e.g. skincare, etc.)\n",
      "\t* Wellness and self-care items (e.g. essential oils, etc.)\n",
      "8. Outdoor and Garden:\n",
      "\t* Garden decor and accessories\n",
      "\t* Outdoor furniture and decor\n",
      "\t* Gardening tools and supplies\n",
      "\n",
      "Note that some products may fit into multiple categories, but I have assigned them to the one that seems most relevant.\n"
     ]
    }
   ],
   "source": [
    "res = call_llama(\n",
    "    'You are a product categorization assistant at a retail website.',\n",
    "    'Given the following product descriptions, come up with a few product categories they should be classified into.'+'\\n'.join(random_descriptions)\n",
    "    )\n",
    "\n",
    "print(res['generation'])"
   ]
  },
  {
   "cell_type": "code",
   "execution_count": 15,
   "metadata": {},
   "outputs": [
    {
     "data": {
      "text/plain": [
       "{'generation': ' <<SYS>>Based on the product descriptions, I would categorize them into the following categories:\\n\\n1. Home Decor:\\n\\t* Wall art\\n\\t* Decorative items (e.g. vases, figurines, etc.)\\n\\t* Lighting (e.g. candles, lanterns, etc.)\\n\\t* Textiles (e.g. throw pillows, blankets, etc.)\\n2. Kitchen and Dining:\\n\\t* Cookware and utensils\\n\\t* Tableware (e.g. plates, cups, etc.)\\n\\t* Kitchen decor (e.g. wall art, etc.)\\n\\t* Food and drink items (e.g. tea, coffee, etc.)\\n3. Fashion and Accessories:\\n\\t* Jewelry (e.g. necklaces, earrings, etc.)\\n\\t* Handbags and wallets\\n\\t* Clothing and accessories (e.g. scarves, hats, etc.)\\n4. Stationery and Gifts:\\n\\t* Greeting cards\\n\\t* Gift wrap and bags\\n\\t* Stationery (e.g. notebooks, pens, etc.)\\n\\t* Gift items (e.g. candles, etc.)\\n5. Toys and Games:\\n\\t* Toys (e.g. stuffed animals, etc.)\\n\\t* Games and puzzles\\n6. Seasonal and Holiday:\\n\\t* Christmas decorations and gifts\\n\\t* Easter decorations and gifts\\n\\t* Other seasonal items (e.g. Halloween, etc.)\\n7. Personal Care and Wellness:\\n\\t* Beauty and personal care items (e.g. skincare, etc.)\\n\\t* Wellness and self-care items (e.g. essential oils, etc.)\\n8. Outdoor and Garden:\\n\\t* Garden decor and accessories\\n\\t* Outdoor furniture and decor\\n\\t* Gardening tools and supplies\\n\\nNote that some products may fit into multiple categories, but I have assigned them to the one that seems most relevant.',\n",
       " 'prompt_token_count': 10768,\n",
       " 'generation_token_count': 369,\n",
       " 'stop_reason': 'stop'}"
      ]
     },
     "execution_count": 15,
     "metadata": {},
     "output_type": "execute_result"
    }
   ],
   "source": [
    "res"
   ]
  },
  {
   "cell_type": "code",
   "execution_count": 16,
   "metadata": {},
   "outputs": [
    {
     "name": "stdout",
     "output_type": "stream",
     "text": [
      "Based on these product descriptions, I would suggest the following main product categories:\n",
      "\n",
      "1. Home Decor\n",
      "- Candle holders\n",
      "- Picture frames\n",
      "- Wall art & signs\n",
      "- Clocks\n",
      "- Cushions & covers\n",
      "- Storage items\n",
      "- Decorative objects\n",
      "\n",
      "2. Jewelry & Accessories\n",
      "- Necklaces\n",
      "- Bracelets\n",
      "- Earrings\n",
      "- Hair accessories\n",
      "- Bag charms\n",
      "- Key rings\n",
      "\n",
      "3. Garden & Outdoor\n",
      "- Plant pots\n",
      "- Garden tools\n",
      "- Outdoor decorations\n",
      "- Bird houses\n",
      "- Garden markers\n",
      "\n",
      "4. Kitchen & Dining\n",
      "- Tea sets\n",
      "- Mugs\n",
      "- Kitchen storage\n",
      "- Cutlery\n",
      "- Baking accessories\n",
      "- Tea towels\n",
      "\n",
      "5. Stationery & Paper Goods\n",
      "- Notebooks\n",
      "- Gift wrap\n",
      "- Cards\n",
      "- Paper decorations\n",
      "- Writing sets\n",
      "\n",
      "6. Party & Celebrations\n",
      "- Party supplies\n",
      "- Gift bags\n",
      "- Christmas decorations\n",
      "- Easter items\n",
      "- Birthday items\n",
      "\n",
      "7. Children's Items\n",
      "- Toys\n",
      "- Children's tableware\n",
      "- School supplies\n",
      "- Kids' accessories\n",
      "\n",
      "8. Fashion Accessories\n",
      "- Bags\n",
      "- Purses\n",
      "- Scarves\n",
      "- Travel accessories\n",
      "\n",
      "9. Bath & Beauty\n",
      "- Bathroom accessories\n",
      "- Toiletry bags\n",
      "- Beauty items\n",
      "\n",
      "10. Lighting\n",
      "- Lamps\n",
      "- String lights\n",
      "- Tea lights\n",
      "- Lanterns\n",
      "\n",
      "These categories cover the main types of products in the list while providing logical groupings for customers to browse.\n"
     ]
    }
   ],
   "source": [
    "res = call_claude(\n",
    "    'You are a product categorization assistant at a retail website.',\n",
    "    'Given the following product descriptions, come up with a few product categories they should be classified into.'+'\\n'.join(random_descriptions)\n",
    "    )\n",
    "\n",
    "print(res['content'][0]['text'])"
   ]
  },
  {
   "cell_type": "code",
   "execution_count": 17,
   "metadata": {},
   "outputs": [
    {
     "data": {
      "text/plain": [
       "{'id': 'msg_bdrk_013qbepKfkB6ws3hWYMnjH2E',\n",
       " 'type': 'message',\n",
       " 'role': 'assistant',\n",
       " 'model': 'claude-3-5-sonnet-20241022',\n",
       " 'content': [{'type': 'text',\n",
       "   'text': \"Based on these product descriptions, I would suggest the following main product categories:\\n\\n1. Home Decor\\n- Candle holders\\n- Picture frames\\n- Wall art & signs\\n- Clocks\\n- Cushions & covers\\n- Storage items\\n- Decorative objects\\n\\n2. Jewelry & Accessories\\n- Necklaces\\n- Bracelets\\n- Earrings\\n- Hair accessories\\n- Bag charms\\n- Key rings\\n\\n3. Garden & Outdoor\\n- Plant pots\\n- Garden tools\\n- Outdoor decorations\\n- Bird houses\\n- Garden markers\\n\\n4. Kitchen & Dining\\n- Tea sets\\n- Mugs\\n- Kitchen storage\\n- Cutlery\\n- Baking accessories\\n- Tea towels\\n\\n5. Stationery & Paper Goods\\n- Notebooks\\n- Gift wrap\\n- Cards\\n- Paper decorations\\n- Writing sets\\n\\n6. Party & Celebrations\\n- Party supplies\\n- Gift bags\\n- Christmas decorations\\n- Easter items\\n- Birthday items\\n\\n7. Children's Items\\n- Toys\\n- Children's tableware\\n- School supplies\\n- Kids' accessories\\n\\n8. Fashion Accessories\\n- Bags\\n- Purses\\n- Scarves\\n- Travel accessories\\n\\n9. Bath & Beauty\\n- Bathroom accessories\\n- Toiletry bags\\n- Beauty items\\n\\n10. Lighting\\n- Lamps\\n- String lights\\n- Tea lights\\n- Lanterns\\n\\nThese categories cover the main types of products in the list while providing logical groupings for customers to browse.\"}],\n",
       " 'stop_reason': 'end_turn',\n",
       " 'stop_sequence': None,\n",
       " 'usage': {'input_tokens': 11586, 'output_tokens': 345}}"
      ]
     },
     "execution_count": 17,
     "metadata": {},
     "output_type": "execute_result"
    }
   ],
   "source": [
    "res"
   ]
  },
  {
   "cell_type": "markdown",
   "metadata": {},
   "source": [
    "LLaMA 3.2 90B Output:\n",
    "```\n",
    "<<SYS>>Based on the product descriptions, I would categorize them into the following categories:\n",
    "\n",
    "1. Home Decor:\n",
    "\t* Wall art\n",
    "\t* Decorative items (e.g. vases, figurines, etc.)\n",
    "\t* Lighting (e.g. candles, lanterns, etc.)\n",
    "\t* Textiles (e.g. throw pillows, blankets, etc.)\n",
    "2. Kitchen and Dining:\n",
    "\t* Cookware and utensils\n",
    "\t* Tableware (e.g. plates, cups, etc.)\n",
    "\t* Kitchen decor (e.g. signs, magnets, etc.)\n",
    "\t* Food and drink items (e.g. tea, coffee, etc.)\n",
    "3. Fashion and Accessories:\n",
    "\t* Jewelry (e.g. necklaces, earrings, etc.)\n",
    "\t* Handbags and wallets\n",
    "\t* Clothing and accessories (e.g. scarves, hats, etc.)\n",
    "4. Stationery and Gifts:\n",
    "\t* Cards and gift wrap\n",
    "\t* Stationery (e.g. notebooks, pens, etc.)\n",
    "\t* Gift items (e.g. mugs, keychains, etc.)\n",
    "5. Toys and Games:\n",
    "\t* Toys (e.g. stuffed animals, puzzles, etc.)\n",
    "\t* Games and puzzles\n",
    "6. Seasonal and Holiday:\n",
    "\t* Christmas decorations and gifts\n",
    "\t* Easter decorations and gifts\n",
    "\t* Other seasonal items (e.g. Halloween, etc.)\n",
    "7. Personal Care and Wellness:\n",
    "\t* Beauty and personal care items (e.g. skincare, haircare, etc.)\n",
    "\t* Wellness and self-care items (e.g. essential oils, etc.)\n",
    "8. Outdoor and Garden:\n",
    "\t* Garden decor and accessories\n",
    "\t* Outdoor furniture and decor\n",
    "\t* Gardening tools and supplies\n",
    "\n",
    "Note that some products may fit into multiple categories, but I have assigned them to the one that seems most relevant.\n",
    "```"
   ]
  },
  {
   "cell_type": "code",
   "execution_count": 18,
   "metadata": {},
   "outputs": [
    {
     "data": {
      "text/plain": [
       "8"
      ]
     },
     "execution_count": 18,
     "metadata": {},
     "output_type": "execute_result"
    }
   ],
   "source": [
    "categories = [\n",
    "    'Home Decor',\n",
    "    'Kitchen and Dining',\n",
    "    'Fashion Accessories',\n",
    "    'Stationary and Gifts',\n",
    "    'Toys and Games',\n",
    "    'Seasonal and Holiday',\n",
    "    'Personal Care and Wellness',\n",
    "    'Outdoor and Garden',   \n",
    "]\n",
    "\n",
    "len(categories)"
   ]
  },
  {
   "cell_type": "code",
   "execution_count": 28,
   "metadata": {},
   "outputs": [
    {
     "data": {
      "application/vnd.jupyter.widget-view+json": {
       "model_id": "e31996ca1d7e41cc89a73450ec84a4cd",
       "version_major": 2,
       "version_minor": 0
      },
      "text/plain": [
       "  0%|          | 0/36 [00:00<?, ?it/s]"
      ]
     },
     "metadata": {},
     "output_type": "display_data"
    }
   ],
   "source": [
    "#loop through descriptions in batches of batch_size\n",
    "res_texts = []\n",
    "batch_size = 100\n",
    "for i in tqdm(range(0, len(descriptions), batch_size)):\n",
    "    batch = descriptions[i:i+batch_size]\n",
    "    d = \"\\n\".join(batch)\n",
    "    inp = f'''Categorize the following product descriptions into {\", \".join(categories)} or Others, if they do not fall into any. \n",
    "Only answer in the following format:\n",
    "\n",
    "\"product description of product #1\"|\"product category classified into\"\n",
    "\"product description of product #2\"|\"product category classified into\"\n",
    "...\n",
    "\"product description of product #n\"|\"product category classified into\"\n",
    "\n",
    "Here are the product descriptions:\n",
    "{d}\n",
    "'''\n",
    "    while True:\n",
    "        res = call_claude('You are a product categorizer at a retail website', inp)\n",
    "        # if res['generation_token_count'] > 1: #for llama\n",
    "        if res['usage']['output_tokens'] > 1:\n",
    "            break\n",
    "        else:\n",
    "            print('Retrying...')\n",
    "            time.sleep(2)\n",
    "    res_text = res['content'][0]['text'].strip().split('\\n')\n",
    "        #for llama\n",
    "        # .replace('[SYS]','').replace('<<SYS>>','')\\\n",
    "        # .replace('[/SYS]','').replace('<</SYS>>','')\\\n",
    "    if res_text!='':\n",
    "        res_texts.extend(res_text)"
   ]
  },
  {
   "cell_type": "code",
   "execution_count": null,
   "metadata": {},
   "outputs": [],
   "source": [
    "# with open('../data/sales_prediction/product_description_category.csv','w') as f:\n",
    "#     f.write('\"product_description\"|\"category\"\\n')\n",
    "#     for i in res_texts:\n",
    "#         f.write(f'{i}\\n')"
   ]
  },
  {
   "cell_type": "code",
   "execution_count": 40,
   "metadata": {},
   "outputs": [
    {
     "data": {
      "text/plain": [
       "category\n",
       "Home Decor                    0.328636\n",
       "Kitchen and Dining            0.195885\n",
       "Fashion Accessories           0.138670\n",
       "Stationary and Gifts          0.116122\n",
       "Seasonal and Holiday          0.087373\n",
       "Personal Care and Wellness    0.047351\n",
       "Toys and Games                0.045096\n",
       "Outdoor and Garden            0.032976\n",
       "Others                        0.007892\n",
       "Name: proportion, dtype: float64"
      ]
     },
     "execution_count": 40,
     "metadata": {},
     "output_type": "execute_result"
    }
   ],
   "source": [
    "product_description_category = pd.read_csv('../data/sales_prediction/product_description_category.csv',\n",
    "                                           sep='|')\n",
    "product_description_category.category.value_counts(normalize=True)"
   ]
  },
  {
   "cell_type": "code",
   "execution_count": null,
   "metadata": {},
   "outputs": [],
   "source": []
  }
 ],
 "metadata": {
  "kernelspec": {
   "display_name": "base",
   "language": "python",
   "name": "python3"
  },
  "language_info": {
   "codemirror_mode": {
    "name": "ipython",
    "version": 3
   },
   "file_extension": ".py",
   "mimetype": "text/x-python",
   "name": "python",
   "nbconvert_exporter": "python",
   "pygments_lexer": "ipython3",
   "version": "3.9.12"
  }
 },
 "nbformat": 4,
 "nbformat_minor": 2
}
